{
 "cells": [
  {
   "cell_type": "code",
   "execution_count": 1,
   "metadata": {},
   "outputs": [],
   "source": [
    "import numpy as np\n",
    "import matplotlib.pyplot as plt\n",
    "import pandas as pd \n",
    "from sklearn import preprocessing\n",
    "from sklearn.preprocessing import MinMaxScaler\n",
    "from sklearn import metrics\n",
    "from sklearn.metrics import confusion_matrix\n",
    "import itertools\n",
    "\n",
    "np.set_printoptions(threshold=np.inf)\n",
    "\n",
    "%matplotlib inline\n",
    "%load_ext autoreload\n",
    "%autoreload 2"
   ]
  },
  {
   "cell_type": "markdown",
   "metadata": {},
   "source": [
    "We first start by cleaning our data and doing some preprocessing before implementing our neural network"
   ]
  },
  {
   "cell_type": "code",
   "execution_count": 5,
   "metadata": {},
   "outputs": [
    {
     "data": {
      "text/plain": [
       "(583, 11)"
      ]
     },
     "execution_count": 5,
     "metadata": {},
     "output_type": "execute_result"
    }
   ],
   "source": [
    "df = pd.read_csv('liver_data.csv')\n",
    "df['Gender'].replace(['Female'], 1,inplace=True)\n",
    "df['Gender'].replace(['Male'], 2,inplace=True)\n",
    "df['Dataset'].replace(2, 0,inplace=True)\n",
    "df = df.astype(float)\n",
    "\n",
    "scaled_df=df\n",
    "names = df.columns[0:10]\n",
    "scaler = MinMaxScaler() \n",
    "scaled_df = scaler.fit_transform(df.iloc[:,0:10]) \n",
    "scaled_df = pd.DataFrame(scaled_df, columns=names)\n",
    "\n",
    "df.shape"
   ]
  },
  {
   "cell_type": "markdown",
   "metadata": {},
   "source": [
    "After that, we follow the same steps to implement the neural network as we did previously with the neural network for the breast cancer"
   ]
  },
  {
   "cell_type": "markdown",
   "metadata": {},
   "source": [
    "## Neural Network Implementation Steps\n",
    "1- Initialization of the network: determine the structure of the network including the number of layers, the number of nodes in each layer, the learning rate and the random weights for each layer\n",
    "\n",
    "2- Forward pass of the network: Feeding the input through the different layers in the network and applying the appropriate activation function\n",
    "\n",
    "3- Backward propagation: We move backwards through our network in order to update our weights as we learn about the differences between the predicted values and the output of the network\n",
    "\n",
    "4- Update network: We then update the network as per what we learned from the backward pass\n",
    "\n",
    "5- Test and Evaluate: We finally test how well our model is working by feeding in out test dataset"
   ]
  },
  {
   "cell_type": "markdown",
   "metadata": {},
   "source": [
    "### We will first start by defining the activation functions\n",
    "We will define both the sigmoid and Rectified Linear Unit (ReLu) functions "
   ]
  },
  {
   "cell_type": "code",
   "execution_count": 6,
   "metadata": {},
   "outputs": [],
   "source": [
    "def Sigmoid(Z):\n",
    "    return 1/(1+np.exp(-Z))\n",
    "\n",
    "def Relu(Z):\n",
    "    return np.maximum(0,Z)"
   ]
  },
  {
   "cell_type": "markdown",
   "metadata": {},
   "source": [
    "We define the derivative for both functions to calculate the backpropagation"
   ]
  },
  {
   "cell_type": "code",
   "execution_count": 11,
   "metadata": {},
   "outputs": [],
   "source": [
    "def dSigmoid(Z):\n",
    "    s = 1/(1+np.exp(-Z))\n",
    "    dZ = s * (1-s)\n",
    "    return dZ\n",
    "\n",
    "def dRelu(x):\n",
    "    x[x<=0] = 0\n",
    "    x[x>0] = 1\n",
    "    return x"
   ]
  },
  {
   "cell_type": "code",
   "execution_count": 7,
   "metadata": {},
   "outputs": [],
   "source": [
    "# X is our input layer where the number of rows is the number of features and the number of columns is the samples we have available to train the network. In this specific case we'll have 32 features and \n",
    "# Y is the desired output of our network\n",
    "# l is the number of layers in our network \n",
    "# dimension is the number of neurons in each layer\n",
    "# output is the output that the network produces and has the same dimensions as Y\n",
    "# dict1 is a dictionary data type that contains the weight (W) and bias (b) parameters for each layer in the network\n",
    "# dict2 is a dictionary that will hold some intermediate vlaues and calculations that we'll need during the backward pass \n",
    "\n",
    "class neural_network:\n",
    "    def __init__(self, x, y):\n",
    "        self.debug = 0;\n",
    "        self.X=x\n",
    "        self.Y=y\n",
    "        self.output=np.zeros((1,self.Y.shape[1])) #The output would have the same dimensions as y but would be initialized to all zeroes \n",
    "        self.l=2  #we're going to have 2 layers in our network\n",
    "        self.dimension = [9, 15, 1] \n",
    "        self.dict1 = {}\n",
    "        self.dict2 = {}\n",
    "        self.grad = {}\n",
    "        self.loss = []  #for a specific number of iterations we will create a list to store loss values for the network\n",
    "        self.learning_rate=0.003\n",
    "        self.samples = self.Y.shape[1] #the number of samples in our dataset\n",
    "        self.threshold=0.5\n",
    "        \n",
    "        \n",
    "    def nInit(self):    \n",
    "        np.random.seed(1)\n",
    "        self.dict1['W1'] = np.random.randn(self.dimension[1], self.dimension[0]) / np.sqrt(self.dimension[0]) \n",
    "        self.dict1['b1'] = np.zeros((self.dimension[1], 1))        \n",
    "        self.dict1['W2'] = np.random.randn(self.dimension[2], self.dimension[1]) / np.sqrt(self.dimension[1]) \n",
    "        self.dict1['b2'] = np.zeros((self.dimension[2], 1))                \n",
    "        return \n",
    "    \n",
    "#####################################################################################################################\n",
    "    \n",
    "    \n",
    "    #After initializing the network we'd want to implement the forward pass in the network ie. feeding the input through the layers in our network and applying the weights and the activation functions\n",
    "    \n",
    "    \n",
    "    def forward(self):\n",
    "\n",
    "\n",
    "        Z1 = self.dict1['W1'].dot(self.X) + self.dict1['b1'] \n",
    "        A1 = Relu(Z1)\n",
    "        self.dict2['Z1'],self.dict2['A1']=Z1,A1\n",
    "        \n",
    "        Z2 = self.dict1['W2'].dot(A1) + self.dict1['b2']  \n",
    "        A2 = Sigmoid(Z2)\n",
    "        self.dict2['Z2'],self.dict2['A2']=Z2,A2\n",
    "\n",
    "        self.output=A2\n",
    "        loss=self.nloss(A2)\n",
    "        return self.output, loss\n",
    "    \n",
    "\n",
    "\n",
    "    def nloss(self, output):\n",
    "        loss = (1./self.samples) * (-np.dot(self.Y,np.log(output).T) - np.dot(1-self.Y, np.log(1-output).T))    \n",
    "        return loss\n",
    "    \n",
    "######################################################################################################################    \n",
    "    \n",
    "    def backward(self):\n",
    "        dLoss_output = - (np.divide(self.Y, self.output ) - np.divide(1 - self.Y, 1 - self.output))    \n",
    "        \n",
    "        dLoss_Z2 = dLoss_output * dSigmoid(self.dict2['Z2'])    \n",
    "        dLoss_A1 = np.dot(self.dict1[\"W2\"].T,dLoss_Z2)\n",
    "        dLoss_W2 = 1./self.dict2['A1'].shape[1] * np.dot(dLoss_Z2,self.dict2['A1'].T)\n",
    "        dLoss_b2 = 1./self.dict2['A1'].shape[1] * np.dot(dLoss_Z2, np.ones([dLoss_Z2.shape[1],1])) \n",
    "                            \n",
    "        dLoss_Z1 = dLoss_A1 * dRelu(self.dict2['Z1'])        \n",
    "        dLoss_A0 = np.dot(self.dict1[\"W1\"].T,dLoss_Z1)\n",
    "        dLoss_W1 = 1./self.X.shape[1] * np.dot(dLoss_Z1,self.X.T)\n",
    "        dLoss_b1 = 1./self.X.shape[1] * np.dot(dLoss_Z1, np.ones([dLoss_Z1.shape[1],1]))\n",
    "    \n",
    "    \n",
    "        self.dict1[\"W1\"] = self.dict1[\"W1\"] - self.learning_rate * dLoss_W1\n",
    "        self.dict1[\"b1\"] = self.dict1[\"b1\"] - self.learning_rate * dLoss_b1\n",
    "        self.dict1[\"W2\"] = self.dict1[\"W2\"] - self.learning_rate * dLoss_W2\n",
    "        self.dict1[\"b2\"] = self.dict1[\"b2\"] - self.learning_rate * dLoss_b2\n",
    "    \n",
    "        return\n",
    "    \n",
    "\n",
    "#######################################################################################################################\n",
    "    \n",
    "    \n",
    "    def pred(self,x, y):  \n",
    "        self.X=x\n",
    "        self.Y=y\n",
    "        result = np.zeros((1,x.shape[1]))\n",
    "        pred, loss= self.forward()    \n",
    "    \n",
    "        for i in range(0, pred.shape[1]):\n",
    "            if pred[0,i] > self.threshold: \n",
    "                result[0,i] = 1\n",
    "            else: \n",
    "                result[0,i] = 0\n",
    "    \n",
    "        print(\"Acc: \" + str(np.sum((result == y)/x.shape[1])))\n",
    "        \n",
    "        return result\n",
    "    \n",
    "######################################################################################################################    \n",
    "    \n",
    "    \n",
    "    def train(self,X, Y, iter = 3000):\n",
    "        np.random.seed(1)                         \n",
    "    \n",
    "        self.nInit()\n",
    "    \n",
    "        for i in range(0, iter):\n",
    "            output, loss=self.forward()\n",
    "            self.backward()\n",
    "            \n",
    "            if i % 500 == 0:\n",
    "                print (\"Cost after iteration %i: %f\" %(i, loss))\n",
    "                self.loss.append(loss)\n",
    "        \n",
    "        plt.plot(np.squeeze(self.loss))\n",
    "        plt.ylabel('Loss')\n",
    "        plt.xlabel('Iteration')\n",
    "        plt.title(\"Learning rate =\" + str(self.learning_rate))\n",
    "        plt.show()\n",
    "       \n",
    "        return\n",
    "    "
   ]
  },
  {
   "cell_type": "code",
   "execution_count": 8,
   "metadata": {},
   "outputs": [
    {
     "name": "stdout",
     "output_type": "stream",
     "text": [
      "(583, 11) (10, 400) (1, 400) (10, 182) (1, 182)\n"
     ]
    }
   ],
   "source": [
    "x=scaled_df.iloc[0:400,0:10].values.transpose()\n",
    "y=df.iloc[0:400,10:].values.transpose()\n",
    "\n",
    "xval=scaled_df.iloc[401:583,0:10].values.transpose()\n",
    "yval=df.iloc[401:583,10:].values.transpose()\n",
    "\n",
    "print(df.shape, x.shape, y.shape, xval.shape, yval.shape)"
   ]
  },
  {
   "cell_type": "code",
   "execution_count": 9,
   "metadata": {},
   "outputs": [],
   "source": [
    "network = neural_network(x,y)\n",
    "network.learning_rate = 0.03\n",
    "network.dimension = [10, 20, 1]"
   ]
  },
  {
   "cell_type": "code",
   "execution_count": 12,
   "metadata": {},
   "outputs": [
    {
     "name": "stdout",
     "output_type": "stream",
     "text": [
      "Cost after iteration 0: 0.784683\n",
      "Cost after iteration 500: 0.583007\n",
      "Cost after iteration 1000: 0.567620\n",
      "Cost after iteration 1500: 0.556580\n",
      "Cost after iteration 2000: 0.547358\n",
      "Cost after iteration 2500: 0.539824\n",
      "Cost after iteration 3000: 0.533818\n",
      "Cost after iteration 3500: 0.529061\n",
      "Cost after iteration 4000: 0.525365\n",
      "Cost after iteration 4500: 0.522462\n"
     ]
    },
    {
     "data": {
      "image/png": "[encoded data removed]",
      "text/plain": [
       "<Figure size 432x288 with 1 Axes>"
      ]
     },
     "metadata": {
      "needs_background": "light"
     },
     "output_type": "display_data"
    }
   ],
   "source": [
    "network.train(x, y, iter = 5000)"
   ]
  },
  {
   "cell_type": "code",
   "execution_count": 13,
   "metadata": {},
   "outputs": [
    {
     "name": "stdout",
     "output_type": "stream",
     "text": [
      "Acc: 0.72\n",
      "Acc: 0.7032967032967032\n"
     ]
    }
   ],
   "source": [
    "pred_train = network.pred(x, y)\n",
    "pred_test = network.pred(xval, yval)"
   ]
  },
  {
   "cell_type": "markdown",
   "metadata": {},
   "source": [
    "### We finally come to the testing and evaluation phase where we define a confusion matrix and plot the actual values versus the predicted values for each of the test and training sets. "
   ]
  },
  {
   "cell_type": "code",
   "execution_count": 17,
   "metadata": {},
   "outputs": [],
   "source": [
    "def plotCf(a,b,t):\n",
    "    cf =confusion_matrix(a,b)\n",
    "    plt.imshow(cf,cmap=plt.cm.Blues,interpolation='nearest')\n",
    "    plt.colorbar()\n",
    "    plt.title(t)\n",
    "    plt.xlabel('Predicted')\n",
    "    plt.ylabel('Actual')\n",
    "    tick_marks = np.arange(len(set(a))) # length of classes\n",
    "    class_labels = ['0','1']\n",
    "    plt.xticks(tick_marks,class_labels)\n",
    "    plt.yticks(tick_marks,class_labels)\n",
    "    thresh = cf.max() / 2.\n",
    "    for i,j in itertools.product(range(cf.shape[0]),range(cf.shape[1])):\n",
    "        plt.text(j,i,format(cf[i,j],'d'),horizontalalignment='center',color='white' if cf[i,j] >thresh else 'black')\n",
    "    plt.show();"
   ]
  },
  {
   "cell_type": "code",
   "execution_count": 18,
   "metadata": {},
   "outputs": [
    {
     "name": "stdout",
     "output_type": "stream",
     "text": [
      "Acc: 0.72\n"
     ]
    },
    {
     "data": {
      "image/png": "[encoded data removed]",
      "text/plain": [
       "<Figure size 432x288 with 2 Axes>"
      ]
     },
     "metadata": {
      "needs_background": "light"
     },
     "output_type": "display_data"
    },
    {
     "name": "stdout",
     "output_type": "stream",
     "text": [
      "Acc: 0.7032967032967032\n"
     ]
    },
    {
     "data": {
      "image/png": "[encoded data removed]",
      "text/plain": [
       "<Figure size 432x288 with 2 Axes>"
      ]
     },
     "metadata": {
      "needs_background": "light"
     },
     "output_type": "display_data"
    }
   ],
   "source": [
    "network.threshold=0.5\n",
    "\n",
    "network.X,network.Y=x, y \n",
    "target=np.around(np.squeeze(y), decimals=0).astype(np.int)\n",
    "predicted=np.around(np.squeeze(network.pred(x,y)), decimals=0).astype(np.int)\n",
    "plotCf(target,predicted,'Training Set')\n",
    "\n",
    "network.X,network.Y=xval, yval \n",
    "target=np.around(np.squeeze(yval), decimals=0).astype(np.int)\n",
    "predicted=np.around(np.squeeze(network.pred(xval,yval)), decimals=0).astype(np.int)\n",
    "plotCf(target,predicted,'Test Set')"
   ]
  },
  {
   "cell_type": "code",
   "execution_count": 19,
   "metadata": {},
   "outputs": [
    {
     "name": "stdout",
     "output_type": "stream",
     "text": [
      "\n",
      "Actual [[1 1 0 1 1 0 1 1 1 1 0 1 0 0 1 1 0 1 1 1 0 1 0 1 1 0 1 0 1 1 0 1 0 0 0 1\n",
      "  1 1 1 1 1 1 1 0 0 1 1 1 1 1]]\n",
      "\n",
      "Predicted [[1 1 1 0 1 1 1 1 1 1 1 1 1 1 1 1 1 1 1 1 1 1 1 1 1 1 1 1 1 1 1 0 1 1 0 1\n",
      "  1 1 1 1 1 1 1 1 1 1 1 1 1 1]] \n",
      "\n"
     ]
    }
   ],
   "source": [
    "network.X,network.Y=xval, yval \n",
    "yvalh, loss = network.forward()\n",
    "print(\"\\nActual\",np.around(yval[:,0:50,], decimals=0).astype(np.int))       \n",
    "print(\"\\nPredicted\",np.around(yvalh[:,0:50,], decimals=0).astype(np.int),\"\\n\")"
   ]
  }
 ],
 "metadata": {
  "kernelspec": {
   "display_name": "Python 3",
   "language": "python",
   "name": "python3"
  },
  "language_info": {
   "codemirror_mode": {
    "name": "ipython",
    "version": 3
   },
   "file_extension": ".py",
   "mimetype": "text/x-python",
   "name": "python",
   "nbconvert_exporter": "python",
   "pygments_lexer": "ipython3",
   "version": "3.7.3"
  }
 },
 "nbformat": 4,
 "nbformat_minor": 2
}
